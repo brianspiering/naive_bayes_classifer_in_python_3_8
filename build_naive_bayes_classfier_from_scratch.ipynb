{
 "cells": [
  {
   "cell_type": "markdown",
   "metadata": {
    "toc": true
   },
   "source": [
    "<h1>Table of Contents<span class=\"tocSkip\"></span></h1>\n",
    "<div class=\"toc\"><ul class=\"toc-item\"><li><span><a href=\"#1.-Double-check-we-are-using-Python-3.8\" data-toc-modified-id=\"1.-Double-check-we-are-using-Python-3.8-1\">1. Double check we are using Python 3.8</a></span></li><li><span><a href=\"#2.-What-is-Naive-Bayes?\" data-toc-modified-id=\"2.-What-is-Naive-Bayes?-2\">2. What is Naive Bayes?</a></span></li><li><span><a href=\"#3.-Machine-learning-models-needs-data\" data-toc-modified-id=\"3.-Machine-learning-models-needs-data-3\">3. Machine learning models needs data</a></span></li><li><span><a href=\"#4.-Build-Naive-Bayes-Classifier\" data-toc-modified-id=\"4.-Build-Naive-Bayes-Classifier-4\">4. Build Naive Bayes Classifier</a></span></li><li><span><a href=\"#5.-Prediction\" data-toc-modified-id=\"5.-Prediction-5\">5. Prediction</a></span></li><li><span><a href=\"#6.-Summary\" data-toc-modified-id=\"6.-Summary-6\">6. Summary</a></span></li></ul></div>"
   ]
  },
  {
   "cell_type": "markdown",
   "metadata": {},
   "source": [
    "# 1. Double check we are using Python 3.8"
   ]
  },
  {
   "cell_type": "code",
   "execution_count": 1,
   "metadata": {},
   "outputs": [],
   "source": [
    "from platform import python_version\n",
    "\n",
    "assert python_version().startswith('3.8')"
   ]
  },
  {
   "cell_type": "markdown",
   "metadata": {},
   "source": [
    "# 2. What is Naive Bayes?"
   ]
  },
  {
   "cell_type": "code",
   "execution_count": null,
   "metadata": {},
   "outputs": [],
   "source": []
  },
  {
   "cell_type": "markdown",
   "metadata": {},
   "source": [
    "# 3. Machine learning models needs data\n",
    "\n",
    "https://en.wikipedia.org/wiki/Naive_Bayes_classifier#Sex_classification"
   ]
  },
  {
   "cell_type": "code",
   "execution_count": null,
   "metadata": {},
   "outputs": [],
   "source": []
  },
  {
   "cell_type": "markdown",
   "metadata": {},
   "source": [
    "# 4. Build Naive Bayes Classifier\n",
    "\n",
    "https://docs.python.org/3/library/statistics.html#normaldist-examples-and-recipes"
   ]
  },
  {
   "cell_type": "code",
   "execution_count": 2,
   "metadata": {},
   "outputs": [],
   "source": [
    "from statistics import NormalDist"
   ]
  },
  {
   "cell_type": "code",
   "execution_count": 3,
   "metadata": {},
   "outputs": [],
   "source": [
    "# Historical data\n",
    "height_male      = NormalDist.from_samples([6, 5.92, 5.58, 5.92])\n",
    "height_female    = NormalDist.from_samples([5, 5.5, 5.42, 5.75])\n",
    "weight_male      = NormalDist.from_samples([180, 190, 170, 165])\n",
    "weight_female    = NormalDist.from_samples([100, 150, 130, 150])\n",
    "foot_size_male   = NormalDist.from_samples([12, 11, 12, 10])\n",
    "foot_size_female = NormalDist.from_samples([6, 8, 7, 9])"
   ]
  },
  {
   "cell_type": "code",
   "execution_count": 4,
   "metadata": {},
   "outputs": [],
   "source": [
    "# Starting with a 50% prior probability of being male or female, \n",
    "\n",
    "prior_male, prior_female = 0.5, 0.5"
   ]
  },
  {
   "cell_type": "code",
   "execution_count": 5,
   "metadata": {},
   "outputs": [],
   "source": [
    "# New person\n",
    "ht = 6.0        # height\n",
    "wt = 130        # weight\n",
    "fs = 8          # foot size"
   ]
  },
  {
   "cell_type": "code",
   "execution_count": 6,
   "metadata": {},
   "outputs": [],
   "source": [
    "# We compute the posterior as the prior times the product of likelihoods for the feature measurements given the gender:\n",
    "posterior_male = (prior_male * \n",
    "                 height_male.pdf(ht) *\n",
    "                 weight_male.pdf(wt) * \n",
    "                 foot_size_male.pdf(fs))\n",
    "\n",
    "posterior_female = (prior_female * \n",
    "                   height_female.pdf(ht) *\n",
    "                   weight_female.pdf(wt) * \n",
    "                   foot_size_female.pdf(fs))\n"
   ]
  },
  {
   "cell_type": "markdown",
   "metadata": {},
   "source": [
    "# 5. Prediction\n"
   ]
  },
  {
   "cell_type": "code",
   "execution_count": 7,
   "metadata": {},
   "outputs": [
    {
     "data": {
      "text/plain": [
       "'female'"
      ]
     },
     "execution_count": 7,
     "metadata": {},
     "output_type": "execute_result"
    }
   ],
   "source": [
    "\n",
    "# The final prediction goes to the largest posterior. \n",
    "# This is known as the maximum a posteriori or MAP:\n",
    "'male' if posterior_male > posterior_female else 'female'"
   ]
  },
  {
   "cell_type": "code",
   "execution_count": null,
   "metadata": {},
   "outputs": [],
   "source": []
  },
  {
   "cell_type": "code",
   "execution_count": null,
   "metadata": {},
   "outputs": [],
   "source": []
  },
  {
   "cell_type": "code",
   "execution_count": null,
   "metadata": {},
   "outputs": [],
   "source": []
  },
  {
   "cell_type": "markdown",
   "metadata": {},
   "source": [
    "# 6. Summary"
   ]
  },
  {
   "cell_type": "code",
   "execution_count": null,
   "metadata": {},
   "outputs": [],
   "source": []
  },
  {
   "cell_type": "code",
   "execution_count": null,
   "metadata": {},
   "outputs": [],
   "source": []
  },
  {
   "cell_type": "code",
   "execution_count": null,
   "metadata": {},
   "outputs": [],
   "source": []
  }
 ],
 "metadata": {
  "kernelspec": {
   "display_name": "Python 3",
   "language": "python",
   "name": "python3"
  },
  "language_info": {
   "codemirror_mode": {
    "name": "ipython",
    "version": 3
   },
   "file_extension": ".py",
   "mimetype": "text/x-python",
   "name": "python",
   "nbconvert_exporter": "python",
   "pygments_lexer": "ipython3",
   "version": "3.8.1"
  },
  "toc": {
   "base_numbering": 1,
   "nav_menu": {},
   "number_sections": false,
   "sideBar": false,
   "skip_h1_title": false,
   "title_cell": "Table of Contents",
   "title_sidebar": "Contents",
   "toc_cell": true,
   "toc_position": {},
   "toc_section_display": true,
   "toc_window_display": false
  }
 },
 "nbformat": 4,
 "nbformat_minor": 4
}

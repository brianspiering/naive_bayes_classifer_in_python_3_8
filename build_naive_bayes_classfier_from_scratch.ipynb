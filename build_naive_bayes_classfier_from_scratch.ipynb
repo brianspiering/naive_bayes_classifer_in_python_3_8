{
 "cells": [
  {
   "cell_type": "markdown",
   "metadata": {
    "toc": true
   },
   "source": [
    "<h1>Table of Contents<span class=\"tocSkip\"></span></h1>\n",
    "<div class=\"toc\"><ul class=\"toc-item\"><li><span><a href=\"#Double-check-we-are-using-Python-3.8\" data-toc-modified-id=\"Double-check-we-are-using-Python-3.8-1\">Double check we are using Python 3.8</a></span></li><li><span><a href=\"#What-is-Naive-Bayes?\" data-toc-modified-id=\"What-is-Naive-Bayes?-2\">What is Naive Bayes?</a></span></li><li><span><a href=\"#What-is-Guassian-Naive-Bayes\" data-toc-modified-id=\"What-is-Guassian-Naive-Bayes-3\">What is Guassian Naive Bayes</a></span></li><li><span><a href=\"#Machine-learning-models-needs-data\" data-toc-modified-id=\"Machine-learning-models-needs-data-4\">Machine learning models needs data</a></span></li><li><span><a href=\"#Build-Naive-Bayes-Classifier\" data-toc-modified-id=\"Build-Naive-Bayes-Classifier-5\">Build Naive Bayes Classifier</a></span></li><li><span><a href=\"#Prediction\" data-toc-modified-id=\"Prediction-6\">Prediction</a></span></li><li><span><a href=\"#Sources\" data-toc-modified-id=\"Sources-7\">Sources</a></span></li></ul></div>"
   ]
  },
  {
   "cell_type": "markdown",
   "metadata": {},
   "source": [
    "# Double check we are using Python 3.8"
   ]
  },
  {
   "cell_type": "code",
   "execution_count": 1,
   "metadata": {},
   "outputs": [],
   "source": [
    "from platform import python_version\n",
    "\n",
    "assert python_version().startswith('3.8')"
   ]
  },
  {
   "cell_type": "markdown",
   "metadata": {},
   "source": [
    "# What is Naive Bayes?\n",
    "\n",
    "One of the simplest machine learning models\n",
    "\n",
    "<center><img src=\"https://chrisalbon.com/images/machine_learning_flashcards/Gaussian_Naive_Bayes_Classifier_print.png\" width=\"75%\"/></center>"
   ]
  },
  {
   "cell_type": "markdown",
   "metadata": {},
   "source": [
    "# What is Guassian Naive Bayes\n",
    "\n",
    "Continuous data assume Gaussian (aka, normal distribution).\n",
    "\n",
    "Each feature has a mean and variance calculated from the data, segmented by category (aka, class).\n",
    "\n"
   ]
  },
  {
   "cell_type": "markdown",
   "metadata": {},
   "source": [
    "# Machine learning models needs data\n",
    "\n",
    "https://en.wikipedia.org/wiki/Naive_Bayes_classifier#Sex_classification"
   ]
  },
  {
   "cell_type": "markdown",
   "metadata": {},
   "source": [
    "# Build Naive Bayes Classifier"
   ]
  },
  {
   "cell_type": "code",
   "execution_count": 2,
   "metadata": {},
   "outputs": [],
   "source": [
    "from statistics import NormalDist"
   ]
  },
  {
   "cell_type": "code",
   "execution_count": 3,
   "metadata": {},
   "outputs": [],
   "source": [
    "# Historical data\n",
    "\n",
    "height_male      = NormalDist.from_samples([6, 5.92, 5.58, 5.92])\n",
    "height_female    = NormalDist.from_samples([5, 5.5, 5.42, 5.75])\n",
    "weight_male      = NormalDist.from_samples([180, 190, 170, 165])\n",
    "weight_female    = NormalDist.from_samples([100, 150, 130, 150])\n",
    "foot_size_male   = NormalDist.from_samples([12, 11, 12, 10])\n",
    "foot_size_female = NormalDist.from_samples([6, 8, 7, 9])"
   ]
  },
  {
   "cell_type": "code",
   "execution_count": 4,
   "metadata": {},
   "outputs": [],
   "source": [
    "# Starting with a 50% prior probability of being male or female, \n",
    "\n",
    "prior_male, prior_female = 0.5, 0.5"
   ]
  },
  {
   "cell_type": "code",
   "execution_count": 5,
   "metadata": {},
   "outputs": [],
   "source": [
    "# New person\n",
    "\n",
    "ht = 6.0        # height\n",
    "wt = 130        # weight\n",
    "fs = 8          # foot size"
   ]
  },
  {
   "cell_type": "code",
   "execution_count": 6,
   "metadata": {},
   "outputs": [],
   "source": [
    "# We compute the posterior as the prior times the product of likelihoods for the feature measurements given the gender:\n",
    "\n",
    "posterior_male = (prior_male * \n",
    "                 height_male.pdf(ht) *\n",
    "                 weight_male.pdf(wt) * \n",
    "                 foot_size_male.pdf(fs))\n",
    "\n",
    "posterior_female = (prior_female * \n",
    "                   height_female.pdf(ht) *\n",
    "                   weight_female.pdf(wt) * \n",
    "                   foot_size_female.pdf(fs))"
   ]
  },
  {
   "cell_type": "markdown",
   "metadata": {},
   "source": [
    "# Prediction\n"
   ]
  },
  {
   "cell_type": "code",
   "execution_count": 8,
   "metadata": {},
   "outputs": [
    {
     "name": "stdout",
     "output_type": "stream",
     "text": [
      "Given the data, the prediction female\n"
     ]
    }
   ],
   "source": [
    "# The final prediction goes to the largest posterior. \n",
    "# This is known as the maximum a posteriori or MAP:\n",
    "prediction = 'male' if posterior_male > posterior_female else 'female'\n",
    "print(f\"Given the data, the prediction is - {prediction}\")"
   ]
  },
  {
   "cell_type": "markdown",
   "metadata": {},
   "source": [
    "# Sources\n",
    "\n",
    "- https://docs.python.org/3/library/statistics.html#normaldist-examples-and-recipes\n",
    "- https://chrisalbon.com/images/machine_learning_flashcards/Gaussian_Naive_Bayes_Classifier_print.png"
   ]
  },
  {
   "cell_type": "markdown",
   "metadata": {},
   "source": [
    "<br>\n",
    "<br> \n",
    "<br>\n",
    "\n",
    "----"
   ]
  }
 ],
 "metadata": {
  "kernelspec": {
   "display_name": "Python 3",
   "language": "python",
   "name": "python3"
  },
  "language_info": {
   "codemirror_mode": {
    "name": "ipython",
    "version": 3
   },
   "file_extension": ".py",
   "mimetype": "text/x-python",
   "name": "python",
   "nbconvert_exporter": "python",
   "pygments_lexer": "ipython3",
   "version": "3.8.1"
  },
  "toc": {
   "base_numbering": 1,
   "nav_menu": {},
   "number_sections": false,
   "sideBar": false,
   "skip_h1_title": false,
   "title_cell": "Table of Contents",
   "title_sidebar": "Contents",
   "toc_cell": true,
   "toc_position": {},
   "toc_section_display": true,
   "toc_window_display": false
  }
 },
 "nbformat": 4,
 "nbformat_minor": 4
}
